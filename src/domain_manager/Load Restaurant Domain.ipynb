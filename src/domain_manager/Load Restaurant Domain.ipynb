{
 "cells": [
  {
   "cell_type": "code",
   "execution_count": 1,
   "metadata": {},
   "outputs": [],
   "source": [
    "from domain_helpers import DomainManager, Domain\n",
    "import json\n",
    "\n",
    "dt = json.load(open(\"../../sample_data/Restaurant_Domain/dialog_templates.json\"))"
   ]
  },
  {
   "cell_type": "code",
   "execution_count": 2,
   "metadata": {},
   "outputs": [],
   "source": [
    "dm = DomainManager()"
   ]
  },
  {
   "cell_type": "code",
   "execution_count": 3,
   "metadata": {},
   "outputs": [],
   "source": [
    "dialog_acts = [\"inform\", \"request\", \"affirm\", \"negate\", \"greetings\", \"bye\"]\n",
    "dat = json.load(open(\"../../sample_data/Restaurant_Domain/ontology_dstc2.json\", \"rb\"))\n",
    "request_slots = dat[\"requestable\"]\n",
    "\n",
    "inform_slots = dat[\"informable\"]"
   ]
  },
  {
   "cell_type": "code",
   "execution_count": 4,
   "metadata": {},
   "outputs": [],
   "source": [
    "res_domain = Domain( domain_name=\"restaurant\", dialog_acts = dialog_acts,\n",
    "                     request_slots = request_slots, inform_slots = inform_slots)"
   ]
  },
  {
   "cell_type": "code",
   "execution_count": 5,
   "metadata": {},
   "outputs": [
    {
     "data": {
      "text/plain": [
       "'../data/domains.pkl'"
      ]
     },
     "execution_count": 5,
     "metadata": {},
     "output_type": "execute_result"
    }
   ],
   "source": [
    "# Add to domain manager\n",
    "#dm.add_domain(res_domain)\n",
    "dm.save_domains()"
   ]
  },
  {
   "cell_type": "code",
   "execution_count": 6,
   "metadata": {},
   "outputs": [],
   "source": [
    "import pickle\n",
    "\n",
    "#pickle.dump(dm, open(\"../data/domain.pkl\", 'wb'))'\n",
    "\n",
    "dm = DomainManager()\n",
    "dm.load_domains()"
   ]
  },
  {
   "cell_type": "code",
   "execution_count": 9,
   "metadata": {},
   "outputs": [
    {
     "name": "stdout",
     "output_type": "stream",
     "text": [
      "['addr', 'area', 'food', 'phone', 'pricerange', 'postcode', 'signature', 'name']\n"
     ]
    }
   ],
   "source": [
    "print(request_slots)"
   ]
  },
  {
   "cell_type": "code",
   "execution_count": 10,
   "metadata": {},
   "outputs": [
    {
     "data": {
      "text/plain": [
       "{'area': ['centre', 'north', 'west', 'south', 'east'],\n",
       " 'food': ['afghan',\n",
       "  'african',\n",
       "  'afternoon tea',\n",
       "  'asian oriental',\n",
       "  'australasian',\n",
       "  'australian',\n",
       "  'austrian',\n",
       "  'barbeque',\n",
       "  'basque',\n",
       "  'belgian',\n",
       "  'bistro',\n",
       "  'brazilian',\n",
       "  'british',\n",
       "  'canapes',\n",
       "  'cantonese',\n",
       "  'caribbean',\n",
       "  'catalan',\n",
       "  'chinese',\n",
       "  'christmas',\n",
       "  'corsica',\n",
       "  'creative',\n",
       "  'crossover',\n",
       "  'cuban',\n",
       "  'danish',\n",
       "  'eastern european',\n",
       "  'english',\n",
       "  'eritrean',\n",
       "  'european',\n",
       "  'french',\n",
       "  'fusion',\n",
       "  'gastropub',\n",
       "  'german',\n",
       "  'greek',\n",
       "  'halal',\n",
       "  'hungarian',\n",
       "  'indian',\n",
       "  'indonesian',\n",
       "  'international',\n",
       "  'irish',\n",
       "  'italian',\n",
       "  'jamaican',\n",
       "  'japanese',\n",
       "  'korean',\n",
       "  'kosher',\n",
       "  'latin american',\n",
       "  'lebanese',\n",
       "  'light bites',\n",
       "  'malaysian',\n",
       "  'mediterranean',\n",
       "  'mexican',\n",
       "  'middle eastern',\n",
       "  'modern american',\n",
       "  'modern eclectic',\n",
       "  'modern european',\n",
       "  'modern global',\n",
       "  'molecular gastronomy',\n",
       "  'moroccan',\n",
       "  'new zealand',\n",
       "  'north african',\n",
       "  'north american',\n",
       "  'north indian',\n",
       "  'northern european',\n",
       "  'panasian',\n",
       "  'persian',\n",
       "  'polish',\n",
       "  'polynesian',\n",
       "  'portuguese',\n",
       "  'romanian',\n",
       "  'russian',\n",
       "  'scandinavian',\n",
       "  'scottish',\n",
       "  'seafood',\n",
       "  'singaporean',\n",
       "  'south african',\n",
       "  'south indian',\n",
       "  'spanish',\n",
       "  'sri lankan',\n",
       "  'steakhouse',\n",
       "  'swedish',\n",
       "  'swiss',\n",
       "  'thai',\n",
       "  'the americas',\n",
       "  'traditional',\n",
       "  'turkish',\n",
       "  'tuscan',\n",
       "  'unusual',\n",
       "  'vegetarian',\n",
       "  'venetian',\n",
       "  'vietnamese',\n",
       "  'welsh',\n",
       "  'world'],\n",
       " 'name': ['ali baba',\n",
       "  'anatolia',\n",
       "  'ask',\n",
       "  'backstreet bistro',\n",
       "  'bangkok city',\n",
       "  'bedouin',\n",
       "  'bloomsbury restaurant',\n",
       "  'caffe uno',\n",
       "  'cambridge lodge restaurant',\n",
       "  'charlie chan',\n",
       "  'chiquito restaurant bar',\n",
       "  'city stop restaurant',\n",
       "  'clowns cafe',\n",
       "  'cocum',\n",
       "  'cote',\n",
       "  'cotto',\n",
       "  'curry garden',\n",
       "  'curry king',\n",
       "  'curry prince',\n",
       "  'curry queen',\n",
       "  'da vinci pizzeria',\n",
       "  'da vince pizzeria',\n",
       "  'darrys cookhouse and wine shop',\n",
       "  'de luca cucina and bar',\n",
       "  'dojo noodle bar',\n",
       "  'don pasquale pizzeria',\n",
       "  'efes restaurant',\n",
       "  'eraina',\n",
       "  'fitzbillies restaurant',\n",
       "  'frankie and bennys',\n",
       "  'galleria',\n",
       "  'golden house',\n",
       "  'golden wok',\n",
       "  'gourmet burger kitchen',\n",
       "  'graffiti',\n",
       "  'grafton hotel restaurant',\n",
       "  'hakka',\n",
       "  'hk fusion',\n",
       "  'hotel du vin and bistro',\n",
       "  'india house',\n",
       "  'j restaurant',\n",
       "  'jinling noodle bar',\n",
       "  'kohinoor',\n",
       "  'kymmoy',\n",
       "  'la margherita',\n",
       "  'la mimosa',\n",
       "  'la raza',\n",
       "  'la tasca',\n",
       "  'lan hong house',\n",
       "  'little seoul',\n",
       "  'loch fyne',\n",
       "  'mahal of cambridge',\n",
       "  'maharajah tandoori restaurant',\n",
       "  'meghna',\n",
       "  'meze bar restaurant',\n",
       "  'michaelhouse cafe',\n",
       "  'midsummer house restaurant',\n",
       "  'nandos',\n",
       "  'nandos city centre',\n",
       "  'panahar',\n",
       "  'peking restaurant',\n",
       "  'pipasha restaurant',\n",
       "  'pizza express',\n",
       "  'pizza express fen ditton',\n",
       "  'pizza hut',\n",
       "  'pizza hut city centre',\n",
       "  'pizza hut cherry hinton',\n",
       "  'pizza hut fen ditton',\n",
       "  'prezzo',\n",
       "  'rajmahal',\n",
       "  'restaurant alimentum',\n",
       "  'restaurant one seven',\n",
       "  'restaurant two two',\n",
       "  'rice boat',\n",
       "  'rice house',\n",
       "  'riverside brasserie',\n",
       "  'royal spice',\n",
       "  'royal standard',\n",
       "  'saffron brasserie',\n",
       "  'saigon city',\n",
       "  'saint johns chop house',\n",
       "  'sala thong',\n",
       "  'sesame restaurant and bar',\n",
       "  'shanghai family restaurant',\n",
       "  'shiraz restaurant',\n",
       "  'sitar tandoori',\n",
       "  'stazione restaurant and coffee bar',\n",
       "  'taj tandoori',\n",
       "  'tandoori palace',\n",
       "  'tang chinese',\n",
       "  'thanh binh',\n",
       "  'the cambridge chop house',\n",
       "  'the copper kettle',\n",
       "  'the cow pizza kitchen and bar',\n",
       "  'the gandhi',\n",
       "  'the gardenia',\n",
       "  'the golden curry',\n",
       "  'the good luck chinese food takeaway',\n",
       "  'the hotpot',\n",
       "  'the lucky star',\n",
       "  'the missing sock',\n",
       "  'the nirala',\n",
       "  'the oak bistro',\n",
       "  'the river bar steakhouse and grill',\n",
       "  'the slug and lettuce',\n",
       "  'the varsity restaurant',\n",
       "  'travellers rest',\n",
       "  'ugly duckling',\n",
       "  'venue',\n",
       "  'wagamama',\n",
       "  'yippee noodle bar',\n",
       "  'yu garden',\n",
       "  'zizzi cambridge'],\n",
       " 'pricerange': ['cheap', 'moderate', 'expensive']}"
      ]
     },
     "metadata": {},
     "output_type": "display_data"
    }
   ],
   "source": [
    "display(inform_slots)"
   ]
  },
  {
   "cell_type": "code",
   "execution_count": 11,
   "metadata": {},
   "outputs": [
    {
     "data": {
      "text/plain": [
       "['inform', 'request', 'affirm', 'negate', 'greetings', 'bye']"
      ]
     },
     "metadata": {},
     "output_type": "display_data"
    }
   ],
   "source": [
    "display(dialog_acts)"
   ]
  },
  {
   "cell_type": "code",
   "execution_count": null,
   "metadata": {
    "collapsed": true
   },
   "outputs": [],
   "source": []
  }
 ],
 "metadata": {
  "kernelspec": {
   "display_name": "Python 3",
   "language": "python",
   "name": "python3"
  },
  "language_info": {
   "codemirror_mode": {
    "name": "ipython",
    "version": 3
   },
   "file_extension": ".py",
   "mimetype": "text/x-python",
   "name": "python",
   "nbconvert_exporter": "python",
   "pygments_lexer": "ipython3",
   "version": "3.6.4"
  }
 },
 "nbformat": 4,
 "nbformat_minor": 2
}
