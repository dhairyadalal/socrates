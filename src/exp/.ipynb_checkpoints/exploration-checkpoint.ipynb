{
 "cells": [
  {
   "cell_type": "code",
   "execution_count": 129,
   "metadata": {},
   "outputs": [
    {
     "data": {
      "text/plain": [
       "[('{\"address\":\"1234 Street\",\"area\":\"north\",\"cuisine\":\"arabic\",\"name\":\"ask restaurant\",\"phone\":\"343-433-4431\",\"pricerange\":\"moderate\"}',\n",
       "  1.0),\n",
       " ('{\"address\":\"1234 Street\",\"area\":\"north\",\"cuisine\":\"thai\",\"name\":\"bangkok city\",\"phone\":\"343-433-4430\",\"pricerange\":\"moderate\"}',\n",
       "  1.0),\n",
       " ('{\"address\":\"1234 Street\",\"area\":\"north\",\"cuisine\":\"chinese\",\"name\":\"ali baba\",\"phone\":\"343-433-4433\",\"pricerange\":\"cheap\"}',\n",
       "  0.5),\n",
       " ('{\"address\":\"1234 Street\",\"area\":\"north\",\"cuisine\":\"chinese\",\"name\":\"anatolia\",\"phone\":\"343-433-4432\",\"pricerange\":\"cheap\"}',\n",
       "  0.5),\n",
       " ('{\"address\":\"1234 Street\",\"area\":\"central\",\"cuisine\":\"indian\",\"name\":\"chutneys\",\"phone\":\"343-433-4436\",\"pricerange\":\"moderate\"}',\n",
       "  0.5)]"
      ]
     },
     "execution_count": 129,
     "metadata": {},
     "output_type": "execute_result"
    }
   ],
   "source": [
    "import pandas as pd\n",
    "\n",
    "tbl = pd.read_json(\"../sample_domains/restaurant/restaurants_kb.json\", orient=\"values\")\n",
    "\n",
    "tbl.query(\"area=='north' | cuisine=='arabic'\")\n",
    "\n",
    "params = { \"area\":\"north\", \"pricerange\":\"moderate\"}\n",
    "\n",
    "\n",
    "def extact_match(params: dict)-> 'pandas.DataFrame':\n",
    "    query = [ str(key)+\"=='\"+str(val)+\"'\" for key, val in params.items() ]\n",
    "    query = '&'.join(query)\n",
    "    return tbl.query(query)\n",
    "\n",
    "def or_match(params: dict) -> 'pandas.DataFrame':\n",
    "    query = [ str(key)+\"=='\"+str(val)+\"'\" for key, val in params.items() ]\n",
    "    query = '|'.join(query)\n",
    "    return tbl.query(query)\n",
    "    \n",
    "def rank_results(resuts: 'pandas.DataFrame', params: dict) -> list:\n",
    "    pass\n",
    "        \n",
    "\n",
    "results = or_match(params)\n",
    "\n",
    "param_val_set = set(params.values())\n",
    "param_key_list = list(params.keys())\n",
    "\n",
    "def sim_score(set1: set, set2: set) -> float:\n",
    "    return len(set1.intersection(set2)) / len(set2)\n",
    "\n",
    "def rank_results(results: 'pandas.DataFrame', params: dict) -> list:    \n",
    "    result_list = []\n",
    "    for _, row in tbl.iterrows():\n",
    "        row_vals_set = set(row[param_key_list].values)\n",
    "        result_list.append((row.to_json(),sim_score(row_vals_set, param_val_set)))\n",
    "\n",
    "    return sorted(result_list, key = lambda tup: tup[1], reverse=True)"
   ]
  },
  {
   "cell_type": "code",
   "execution_count": 111,
   "metadata": {},
   "outputs": [
    {
     "data": {
      "text/plain": [
       "{'moderate', 'north'}"
      ]
     },
     "execution_count": 111,
     "metadata": {},
     "output_type": "execute_result"
    }
   ],
   "source": [
    "set(params.values())"
   ]
  },
  {
   "cell_type": "code",
   "execution_count": null,
   "metadata": {},
   "outputs": [],
   "source": [
    " "
   ]
  }
 ],
 "metadata": {
  "kernelspec": {
   "display_name": "Python 3",
   "language": "python",
   "name": "python3"
  },
  "language_info": {
   "codemirror_mode": {
    "name": "ipython",
    "version": 3
   },
   "file_extension": ".py",
   "mimetype": "text/x-python",
   "name": "python",
   "nbconvert_exporter": "python",
   "pygments_lexer": "ipython3",
   "version": "3.6.4"
  }
 },
 "nbformat": 4,
 "nbformat_minor": 2
}
