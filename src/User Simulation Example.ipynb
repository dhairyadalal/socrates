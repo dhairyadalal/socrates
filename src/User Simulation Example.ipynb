{
 "cells": [
  {
   "cell_type": "code",
   "execution_count": 4,
   "metadata": {},
   "outputs": [
    {
     "ename": "ImportError",
     "evalue": "cannot import name 'Domain'",
     "output_type": "error",
     "traceback": [
      "\u001b[0;31m---------------------------------------------------------------------------\u001b[0m",
      "\u001b[0;31mImportError\u001b[0m                               Traceback (most recent call last)",
      "\u001b[0;32m<ipython-input-4-34f72d6a78fe>\u001b[0m in \u001b[0;36m<module>\u001b[0;34m()\u001b[0m\n\u001b[1;32m     10\u001b[0m \u001b[0;34m\u001b[0m\u001b[0m\n\u001b[1;32m     11\u001b[0m \u001b[0;31m# a. Create User Simulator object\u001b[0m\u001b[0;34m\u001b[0m\u001b[0;34m\u001b[0m\u001b[0m\n\u001b[0;32m---> 12\u001b[0;31m \u001b[0;32mfrom\u001b[0m \u001b[0muser_simulator\u001b[0m \u001b[0;32mimport\u001b[0m \u001b[0mSimulator\u001b[0m\u001b[0;34m\u001b[0m\u001b[0m\n\u001b[0m\u001b[1;32m     13\u001b[0m \u001b[0muser_sim\u001b[0m \u001b[0;34m=\u001b[0m \u001b[0mSimulator\u001b[0m\u001b[0;34m.\u001b[0m\u001b[0mRuleSimulator\u001b[0m\u001b[0;34m(\u001b[0m\u001b[0mrestaurant\u001b[0m\u001b[0;34m,\u001b[0m \u001b[0;34m\"random\"\u001b[0m\u001b[0;34m)\u001b[0m\u001b[0;34m\u001b[0m\u001b[0m\n\u001b[1;32m     14\u001b[0m \u001b[0muser_sim\u001b[0m\u001b[0;34m.\u001b[0m\u001b[0mload_starting_goals\u001b[0m\u001b[0;34m(\u001b[0m\u001b[0;34m\"data/sample_starting_goals.yaml\"\u001b[0m\u001b[0;34m,\u001b[0m \u001b[0;34m\"yaml\"\u001b[0m\u001b[0;34m)\u001b[0m\u001b[0;34m\u001b[0m\u001b[0m\n",
      "\u001b[0;32m~/Documents/socrates/src/user_simulator/Simulator.py\u001b[0m in \u001b[0;36m<module>\u001b[0;34m()\u001b[0m\n\u001b[0;32m----> 1\u001b[0;31m \u001b[0;32mfrom\u001b[0m \u001b[0mdomain_helpers\u001b[0m \u001b[0;32mimport\u001b[0m \u001b[0mDomain\u001b[0m\u001b[0;34m\u001b[0m\u001b[0m\n\u001b[0m\u001b[1;32m      2\u001b[0m \u001b[0;32mimport\u001b[0m \u001b[0myaml\u001b[0m\u001b[0;34m\u001b[0m\u001b[0m\n\u001b[1;32m      3\u001b[0m \u001b[0;32mimport\u001b[0m \u001b[0mrandom\u001b[0m\u001b[0;34m\u001b[0m\u001b[0m\n\u001b[1;32m      4\u001b[0m \u001b[0;32mimport\u001b[0m \u001b[0mre\u001b[0m\u001b[0;34m\u001b[0m\u001b[0m\n\u001b[1;32m      5\u001b[0m \u001b[0;34m\u001b[0m\u001b[0m\n",
      "\u001b[0;31mImportError\u001b[0m: cannot import name 'Domain'"
     ]
    }
   ],
   "source": [
    "# 1. Load Domain\n",
    "from domain_helpers import domain_helpers\n",
    "import yaml\n",
    "\n",
    "domain_manager = domain_helpers.DomainManager()\n",
    "domain_manager.load_domains(\"data/\")\n",
    "restaurant = domain_manager.get_domain(\"restaurant\")\n",
    "\n",
    "# 2. Create User simulator object\n",
    "\n",
    "# a. Create User Simulator object \n",
    "from user_simulator import Simulator\n",
    "user_sim = Simulator.RuleSimulator(restaurant, \"random\")\n",
    "user_sim.load_starting_goals(\"data/sample_starting_goals.yaml\", \"yaml\")\n",
    "\n",
    "# b. Load rule based NLG model\n",
    "nlg_model = yaml.safe_load(open(\"data/nlg_rules.yaml\"))\n",
    "user_sim.set_nlg_model(nlg_model)\n",
    "\n",
    "# 3. Create Agent \n",
    "from dialog_agents import dialog_agents\n",
    "agent = dialog_agents.Agent()"
   ]
  },
  {
   "cell_type": "code",
   "execution_count": 20,
   "metadata": {},
   "outputs": [
    {
     "data": {
      "text/plain": [
       "\"I want modern european that's moderate.\""
      ]
     },
     "execution_count": 20,
     "metadata": {},
     "output_type": "execute_result"
    }
   ],
   "source": [
    "params = { \"param_key\": \"cuisine,pricerange\",  \n",
    "           \"param_vals\": {\"cuisine\":\"modern european\", \"pricerange\": \"moderate\"}}\n",
    "user_sim.action_to_nl(\"inform\", params)"
   ]
  },
  {
   "cell_type": "code",
   "execution_count": null,
   "metadata": {},
   "outputs": [],
   "source": [
    "\"request(cusine, area)\""
   ]
  },
  {
   "cell_type": "code",
   "execution_count": null,
   "metadata": {},
   "outputs": [],
   "source": []
  }
 ],
 "metadata": {
  "kernelspec": {
   "display_name": "Python 3",
   "language": "python",
   "name": "python3"
  },
  "language_info": {
   "codemirror_mode": {
    "name": "ipython",
    "version": 3
   },
   "file_extension": ".py",
   "mimetype": "text/x-python",
   "name": "python",
   "nbconvert_exporter": "python",
   "pygments_lexer": "ipython3",
   "version": "3.6.4"
  }
 },
 "nbformat": 4,
 "nbformat_minor": 2
}
