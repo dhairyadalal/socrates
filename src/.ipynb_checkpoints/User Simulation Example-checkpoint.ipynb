{
 "cells": [
  {
   "cell_type": "code",
   "execution_count": 16,
   "metadata": {},
   "outputs": [],
   "source": [
    "# 1. Load Domain\n",
    "from domain_helpers import domain_helpers\n",
    "import yaml\n",
    "\n",
    "domain_manager = domain_helpers.DomainManager()\n",
    "domain_manager.load_domains(\"data/\")\n",
    "restaurant = domain_manager.get_domain(\"restaurant\")\n",
    "\n",
    "# 2. Create User simulator object\n",
    "\n",
    "# a. Create User Simulator object \n",
    "from user_simulator import Simulator\n",
    "user_sim = Simulator.RuleSimulator(restaurant, \"random\")\n",
    "user_sim.load_starting_goals(\"data/sample_starting_goals.yaml\", \"yaml\")\n",
    "\n",
    "# b. Load rule based NLG model\n",
    "nlg_model = yaml.safe_load(open(\"data/nlg_rules.yaml\"))\n",
    "user_sim.set_nlg_model(nlg_model)\n",
    "\n",
    "# 3. Create Agent \n",
    "from dialog_agents import dialog_agents\n",
    "agent = dialog_agents.Agent()"
   ]
  },
  {
   "cell_type": "code",
   "execution_count": 20,
   "metadata": {},
   "outputs": [
    {
     "data": {
      "text/plain": [
       "\"I want modern european that's moderate.\""
      ]
     },
     "execution_count": 20,
     "metadata": {},
     "output_type": "execute_result"
    }
   ],
   "source": [
    "params = { \"param_key\": \"cuisine,pricerange\",  \n",
    "           \"param_vals\": {\"cuisine\":\"modern european\", \"pricerange\": \"moderate\"}}\n",
    "user_sim.action_to_nl(\"inform\", params)"
   ]
  },
  {
   "cell_type": "code",
   "execution_count": null,
   "metadata": {},
   "outputs": [],
   "source": [
    "\"request(cusine, area)\""
   ]
  },
  {
   "cell_type": "code",
   "execution_count": null,
   "metadata": {},
   "outputs": [],
   "source": []
  }
 ],
 "metadata": {
  "kernelspec": {
   "display_name": "Python 3",
   "language": "python",
   "name": "python3"
  },
  "language_info": {
   "codemirror_mode": {
    "name": "ipython",
    "version": 3
   },
   "file_extension": ".py",
   "mimetype": "text/x-python",
   "name": "python",
   "nbconvert_exporter": "python",
   "pygments_lexer": "ipython3",
   "version": "3.6.4"
  }
 },
 "nbformat": 4,
 "nbformat_minor": 2
}
