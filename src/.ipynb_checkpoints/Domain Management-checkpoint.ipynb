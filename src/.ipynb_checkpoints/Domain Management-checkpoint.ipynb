{
 "cells": [
  {
   "cell_type": "markdown",
   "metadata": {},
   "source": [
    "# Overview\n"
   ]
  },
  {
   "cell_type": "markdown",
   "metadata": {},
   "source": [
    "# Domain Manager Overview"
   ]
  },
  {
   "cell_type": "markdown",
   "metadata": {},
   "source": [
    "## Creating a Domain Yaml Document "
   ]
  },
  {
   "cell_type": "raw",
   "metadata": {},
   "source": [
    "# Dialog Domain Template\n",
    "\n",
    "# Domain Information\n",
    "domain_name: restaurant\n",
    "version: 1.0\n",
    "\n",
    "# Dialog Acts\n",
    "dialog_acts: [ \"inform\", \"request\", \"affirm\", \"negate\", \"greetings\", \"bye\"]\n",
    "\n",
    "# Request Slots\n",
    "request_slots: [ \"address\", \"area\", \"food\", \"phone\", \"pricerange\", \"postcode\", \"name\" ]\n",
    "\n",
    "# Inform slots\n",
    "inform_slots: [ \"cuisine\", \"pricerange\", \"name\", \"area\" ]\n",
    "\n",
    "# Valid User Goals\n",
    "valid_user_goals:\n",
    "  - [ \"name\" ]                  # User wants restaurant name\n",
    "  - [ \"name\", \"address\"  ]      # User wants\n",
    "  - [ \"name\", \"address\", \"phone\" ]\n",
    "  - [ \"name\", \"phone\" ]\n",
    "\n",
    "# Domain Knowledge Base\n",
    "inform_slot_values:\n",
    "  pricerange: [ \"cheap\", \"moderate\", \"expensive\"]\n",
    "  area: [  \"centre\", \"north\", \"west\", \"south\", \"east\" ]\n",
    "  food: [ \"afghan\",\n",
    "          \"african\",\n",
    "          \"caribbean\",\n",
    "          \"chinese\",\n",
    "          \"french\",\n",
    "          \"indian\",\n",
    "          \"japanese\",\n",
    "          \"korean\",\n",
    "          \"malaysian\",\n",
    "          \"mediterranean\",\n",
    "          \"mexican\",\n",
    "          \"vegetarian\"]"
   ]
  },
  {
   "cell_type": "markdown",
   "metadata": {},
   "source": [
    "## Importing Domain into Domain Manager"
   ]
  },
  {
   "cell_type": "code",
   "execution_count": 1,
   "metadata": {},
   "outputs": [
    {
     "name": "stdout",
     "output_type": "stream",
     "text": [
      "Successfully imported restaurant domain. Use get_domain('restaurant') to access domain object.\n",
      "Domain: restaurant | Version: 1.0 \n"
     ]
    }
   ],
   "source": [
    "from domain_helpers import domain_helpers\n",
    "\n",
    "# 1. Create Domain Manager object\n",
    "manager = domain_helpers.DomainManager()\n",
    "\n",
    "# 2. Use manager's import_domain() method to import yaml doc.\n",
    "#    Method expects file path to import document and document type. \n",
    "manager.import_domain(\"data/restaurant_domain.yaml\", \"yaml\")\n",
    "\n",
    "# 3. User get_domain() method to get domain object. Method expects domain name, which was specified in the import doc.\n",
    "restaurant_domain = manager.get_domain(\"restaurant\")\n",
    "print(restaurant_domain)"
   ]
  },
  {
   "cell_type": "markdown",
   "metadata": {},
   "source": [
    "## Saving Domain Manager and Domains"
   ]
  },
  {
   "cell_type": "code",
   "execution_count": 2,
   "metadata": {},
   "outputs": [
    {
     "data": {
      "text/plain": [
       "'Saved domains to: data/domains.pkl'"
      ]
     },
     "execution_count": 2,
     "metadata": {},
     "output_type": "execute_result"
    }
   ],
   "source": [
    "manager.save_domains(\"data/\")"
   ]
  },
  {
   "cell_type": "markdown",
   "metadata": {},
   "source": [
    "## Loading saved Domains into DomainManager"
   ]
  },
  {
   "cell_type": "markdown",
   "metadata": {},
   "source": [
    "## Working with the Domain Object"
   ]
  },
  {
   "cell_type": "code",
   "execution_count": 3,
   "metadata": {},
   "outputs": [
    {
     "name": "stdout",
     "output_type": "stream",
     "text": [
      "domain inform slots:  ['cuisine', 'pricerange', 'name', 'area']\n",
      "sample cuisine:  basque\n",
      "domain request slots:  ['address', 'area', 'food', 'phone', 'pricerange', 'postcode', 'name']\n",
      "sample request slots:  pricerange\n",
      "\n",
      "Valid user goals: \n"
     ]
    },
    {
     "data": {
      "text/plain": [
       "[['name'],\n",
       " ['name', 'address'],\n",
       " ['name', 'address', 'phone'],\n",
       " ['name', 'phone']]"
      ]
     },
     "metadata": {},
     "output_type": "display_data"
    }
   ],
   "source": [
    "# 1. Get all inform slots\n",
    "inform_slots = restaurant_domain.get_all_inform_slots()\n",
    "print(\"domain inform slots: \", inform_slots)\n",
    "\n",
    "# 2. Sample inform slot value\n",
    "sample_cuisine = restaurant_domain.sample_inform_slot_value(\"cuisine\")\n",
    "print(\"sample cuisine: \", sample_cuisine)\n",
    "\n",
    "# 3. Get all request slots\n",
    "request_slots = restaurant_domain.get_all_request_slots()\n",
    "print(\"domain request slots: \", request_slots)\n",
    "\n",
    "# 4. Sample request slots\n",
    "sample_request_slot = restaurant_domain.sample_request_slot()\n",
    "print(\"sample request slots: \", sample_request_slot)\n",
    "\n",
    "# 5. Get valid user goals\n",
    "valid_goals = restaurant_domain.get_valid_user_goals()\n",
    "print(\"\\nValid user goals: \")\n",
    "display(valid_goals)"
   ]
  },
  {
   "cell_type": "code",
   "execution_count": null,
   "metadata": {},
   "outputs": [],
   "source": []
  }
 ],
 "metadata": {
  "kernelspec": {
   "display_name": "Python 3",
   "language": "python",
   "name": "python3"
  },
  "language_info": {
   "codemirror_mode": {
    "name": "ipython",
    "version": 3
   },
   "file_extension": ".py",
   "mimetype": "text/x-python",
   "name": "python",
   "nbconvert_exporter": "python",
   "pygments_lexer": "ipython3",
   "version": "3.6.4"
  }
 },
 "nbformat": 4,
 "nbformat_minor": 2
}
