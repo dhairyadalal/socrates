{
 "cells": [
  {
   "cell_type": "code",
   "execution_count": 1,
   "metadata": {},
   "outputs": [],
   "source": [
    "from lxml import html, etree\n",
    "import datetime\n",
    "import requests\n",
    "import re\n",
    "import os\n",
    "import sys\n",
    "import unicodecsv as csv\n",
    "import argparse\n",
    "import json"
   ]
  },
  {
   "cell_type": "code",
   "execution_count": 74,
   "metadata": {
    "scrolled": false
   },
   "outputs": [],
   "source": [
    "from bs4 import BeautifulSoup as bs\n",
    "\n",
    "url = \"https://www.fandango.com/theaterlistings-prn.aspx?location=02141&pn=1&sdate=6-11-2018&tid=AAPNV,AAXFU,AAOVD,AAYHB,AAEIS,AAQFC\"\n",
    "html = requests.get(url).text\n",
    "\n",
    "soup = bs(html, 'html.parser')"
   ]
  },
  {
   "cell_type": "code",
   "execution_count": 163,
   "metadata": {
    "scrolled": true
   },
   "outputs": [],
   "source": [
    "import re\n",
    "import random\n",
    "\n",
    "rating_re = re.compile(\"(R)|(PG-13)|(G)|(PG)\")\n",
    "\n",
    "stars = [1,2,3,4,5]\n",
    "\n",
    "def add_p(string):\n",
    "    return string + 'p' if 'a' not in string else string\n",
    "\n",
    "kb_row = []\n",
    "for tbl in soup.find_all('table'):\n",
    "    rows = tbl.find_all('tr')\n",
    "    \n",
    "    header = rows[0].text.strip().split('\\n')\n",
    "    theater = header[0].strip()\n",
    "    address = header[1].strip()\n",
    "    \n",
    "    for row in rows[1:]:\n",
    "        rv = [val.strip() for val in row.text.strip().split('\\n')\n",
    "              if val.strip() != '']\n",
    "        movie = rv[0]\n",
    "        \n",
    "        try:\n",
    "            rating = rating_re.search(rv[1]).group(0)\n",
    "        except:\n",
    "            rating = \"n/a\"\n",
    "        \n",
    "        times = []\n",
    "        for v in rv[1:]:\n",
    "            if ':' in v:\n",
    "                times.extend(v.split('p'))\n",
    "        times = [add_p(t) for t in times if t != '']\n",
    "        times = '|'.join(list(set(times)))\n",
    "               \n",
    "        kb_row.append({'movie': movie, 'rating': rating, \n",
    "                       'times': times, 'stars': random.choice(stars),\n",
    "                       'theater': theater, 'address': address,\n",
    "                       'zip': address.split()[-1], 'city': 'Boston',\n",
    "                       'state' : 'MA'\n",
    "                      })\n"
   ]
  },
  {
   "cell_type": "code",
   "execution_count": 167,
   "metadata": {},
   "outputs": [],
   "source": [
    "import pandas as pd\n",
    "\n",
    "mt = pd.DataFrame(kb_row)"
   ]
  },
  {
   "cell_type": "code",
   "execution_count": null,
   "metadata": {},
   "outputs": [],
   "source": [
    "genres = ['action', 'romance', 'comedy', 'horror', 'adventure', 'thriller']\n",
    "\n",
    "um = list(set(mt.movie))\n",
    "um_g = [ random.choice(genres) for i in um]\n",
    "\n",
    "gtbl = pd.DataFrame({'genre':um_g, 'movie':um})\n",
    "\n",
    "mt = mt.merge(gtbl, on='movie', how='left')\n",
    "\n",
    "mt.to_csv(\"../moviekb.csv\", index=False)\n"
   ]
  }
 ],
 "metadata": {
  "kernelspec": {
   "display_name": "Python 3",
   "language": "python",
   "name": "python3"
  },
  "language_info": {
   "codemirror_mode": {
    "name": "ipython",
    "version": 3
   },
   "file_extension": ".py",
   "mimetype": "text/x-python",
   "name": "python",
   "nbconvert_exporter": "python",
   "pygments_lexer": "ipython3",
   "version": "3.6.4"
  }
 },
 "nbformat": 4,
 "nbformat_minor": 2
}
