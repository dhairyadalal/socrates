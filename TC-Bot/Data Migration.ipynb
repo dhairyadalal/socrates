{
 "cells": [
  {
   "cell_type": "code",
   "execution_count": 2,
   "metadata": {},
   "outputs": [],
   "source": [
    "def text_to_dict(path):\n",
    "    \"\"\" Read in a text file as a dictionary where keys are text and values are indices (line numbers) \"\"\"\n",
    "    \n",
    "    slot_set = {}\n",
    "    with open(path, 'r') as f:\n",
    "        index = 0\n",
    "        for line in f.readlines():\n",
    "            slot_set[line.strip('\\n').strip('\\r')] = index\n",
    "            index += 1\n",
    "    return slot_set"
   ]
  },
  {
   "cell_type": "code",
   "execution_count": 23,
   "metadata": {
    "scrolled": true
   },
   "outputs": [],
   "source": [
    "import json\n",
    "dict_ = pickle.load(open(\"src/deep_dialog/data/user_goals_first_turn_template.v2.p\",'rb'))\n",
    "\n",
    "with open('movie_dict.json', 'w') as outfile:\n",
    "    json.dump(dict_, outfile, sort_keys=True,indent=4, separators=(',', ': '))\n"
   ]
  },
  {
   "cell_type": "code",
   "execution_count": 26,
   "metadata": {
    "scrolled": false
   },
   "outputs": [],
   "source": [
    "movie_kb = pickle.load(open(\"src/deep_dialog/data/movie_kb.v2.json\",'rb'))\n",
    "\n",
    "with open('../sample_data/movie_domain/moviekb_dict.json', 'w') as outfile:\n",
    "    json.dump(movie_kb, outfile, sort_keys=True,indent=4, separators=(',', ': '))\n"
   ]
  },
  {
   "cell_type": "code",
   "execution_count": 28,
   "metadata": {
    "scrolled": false
   },
   "outputs": [],
   "source": [
    "goal_file = pickle.load(open(\"src/deep_dialog/data/user_goals_first_turn_template.part.movie.v1.p\",'rb'))\n",
    "\n",
    "with open('../sample_data/movie_domain/user_first_goals.json', 'w') as outfile:\n",
    "    json.dump(goal_file, outfile, sort_keys=True,indent=4, separators=(',', ': '))\n"
   ]
  },
  {
   "cell_type": "code",
   "execution_count": 31,
   "metadata": {},
   "outputs": [],
   "source": [
    "nl_pairs = json.load(open(\"src/deep_dialog/data/dia_act_nl_pairs.v6.json\"))\n",
    "\n",
    "with open('../sample_data/movie_domain/nl_pairs.json', 'w') as outfile:\n",
    "    json.dump(nl_pairs, outfile, sort_keys=True,indent=4, separators=(',', ': '))\n"
   ]
  },
  {
   "cell_type": "code",
   "execution_count": 38,
   "metadata": {},
   "outputs": [],
   "source": [
    "with open(\"src/deep_dialog/data/dia_acts.txt\") as file:\n",
    "    acts = file.readlines()\n",
    "acts = [act.strip() for act in acts]\n",
    "\n",
    "with open(\"src/deep_dialog/data/slot_set.txt\") as file:\n",
    "    slots = file.readlines()\n",
    "slots = [slot.strip() for slot in slots]\n",
    "\n",
    "sa = {\"slots\":slots, \"dialog_acts\":acts}\n",
    "with open('../sample_data/movie_domain/dialog_acts_slots.json', 'w') as outfile:\n",
    "    json.dump(sa, outfile, sort_keys=True,indent=4, separators=(',', ': '))\n"
   ]
  },
  {
   "cell_type": "code",
   "execution_count": null,
   "metadata": {},
   "outputs": [],
   "source": []
  }
 ],
 "metadata": {
  "kernelspec": {
   "display_name": "Python 2",
   "language": "python",
   "name": "python2"
  },
  "language_info": {
   "codemirror_mode": {
    "name": "ipython",
    "version": 2
   },
   "file_extension": ".py",
   "mimetype": "text/x-python",
   "name": "python",
   "nbconvert_exporter": "python",
   "pygments_lexer": "ipython2",
   "version": "2.7.14"
  }
 },
 "nbformat": 4,
 "nbformat_minor": 2
}
